{
 "cells": [
  {
   "cell_type": "code",
   "execution_count": 50,
   "metadata": {
    "collapsed": true
   },
   "outputs": [],
   "source": [
    "import Bio\n",
    "import re"
   ]
  },
  {
   "cell_type": "code",
   "execution_count": 61,
   "metadata": {},
   "outputs": [
    {
     "name": "stdout",
     "output_type": "stream",
     "text": [
      "ID: 2L\n",
      "Name: 2L\n",
      "Description: 2L type=golden_path_region; loc=2L:1..23513712; ID=2L; dbxref=GB:AE014134,GB:AE014134,REFSEQ:NT_033779; MD5=b6a98b7c676bdaa11ec9521ed15aff2b; length=23513712; release=r6.16; species=Dmel;\n",
      "Number of features: 0\n",
      "Seq('CGACAATGCACGACAGAGGAAGCAGAACAGATATTTAGATTGCCTCTCATTTTC...GAG', SingleLetterAlphabet())\n"
     ]
    }
   ],
   "source": [
    "from Bio import SeqIO\n",
    "from Bio.Seq import Seq\n",
    "from Bio.SeqRecord import SeqRecord\n",
    "from Bio.Alphabet import IUPAC\n",
    "with open(\"/Users/bergeric/Downloads/dmel-all-chromosome-r6.16.fasta\") as x: \n",
    "    first= next(SeqIO.parse(x, \"fasta\"))\n",
    "    #print(first.seq[6529:9484])\n",
    "    print(first)\n",
    "    "
   ]
  },
  {
   "cell_type": "code",
   "execution_count": 4,
   "metadata": {},
   "outputs": [
    {
     "data": {
      "text/plain": [
       "1"
      ]
     },
     "execution_count": 4,
     "metadata": {},
     "output_type": "execute_result"
    }
   ],
   "source": [
    "#writing files with SeqIO.write()\n",
    "\n",
    "#SeqIO.write(first, \"test_record.fasta\", \"fasta\")"
   ]
  },
  {
   "cell_type": "code",
   "execution_count": 118,
   "metadata": {},
   "outputs": [
    {
     "data": {
      "text/plain": [
       "17659"
      ]
     },
     "execution_count": 118,
     "metadata": {},
     "output_type": "execute_result"
    }
   ],
   "source": [
    "#matching to genes and slicing: \n",
    "\n",
    "f = SeqIO.parse(\"/Users/bergeric/Downloads/dmel-all-chromosome-r6.16.fasta\", \"fasta\")\n",
    "chrom_dict = SeqIO.to_dict(f)\n",
    "\n",
    "my_records = []        \n",
    "with open(\"/Users/bergeric/Projects/s2rnai/output/phastcons_workflow/gene_only_slop.txt\") as g:\n",
    "    for line in g:\n",
    "        splitline = line.split('\\t')\n",
    "        chrom = splitline[0]\n",
    "        start = int(splitline[3])\n",
    "        stop = int(splitline[4])\n",
    "        lesschrom = chrom[3:]\n",
    "        descrip = splitline[8]\n",
    "        match = re.compile('ID=(\\w*);.*').match(descrip)\n",
    "        name = match.group(1)        \n",
    "        if lesschrom == 'M':\n",
    "            look_seq = chrom_dict['mitochondrion_genome'].seq \n",
    "        else: \n",
    "            look_seq = chrom_dict[lesschrom].seq\n",
    "        seqslice = look_seq[start - 1:stop]\n",
    "        new_record = SeqRecord(seqslice, id=name, description=\"\")\n",
    "        my_records.append(new_record)\n",
    "                \n",
    "SeqIO.write(my_records, \"slopped_genes.fasta\", \"fasta\")\n",
    "    \n",
    "        "
   ]
  },
  {
   "cell_type": "code",
   "execution_count": null,
   "metadata": {
    "collapsed": true
   },
   "outputs": [],
   "source": []
  }
 ],
 "metadata": {
  "kernelspec": {
   "display_name": "Python 3",
   "language": "python",
   "name": "python3"
  },
  "language_info": {
   "codemirror_mode": {
    "name": "ipython",
    "version": 3
   },
   "file_extension": ".py",
   "mimetype": "text/x-python",
   "name": "python",
   "nbconvert_exporter": "python",
   "pygments_lexer": "ipython3",
   "version": "3.6.1"
  }
 },
 "nbformat": 4,
 "nbformat_minor": 2
}
