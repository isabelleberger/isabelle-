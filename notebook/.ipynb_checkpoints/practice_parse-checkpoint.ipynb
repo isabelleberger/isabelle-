{
 "cells": [
  {
   "cell_type": "code",
   "execution_count": 1,
   "metadata": {},
   "outputs": [],
   "source": [
    "import numpy as np"
   ]
  },
  {
   "cell_type": "code",
   "execution_count": 13,
   "metadata": {},
   "outputs": [
    {
     "name": "stdout",
     "output_type": "stream",
     "text": [
      "ID: abd-A\n",
      "  0.135135\t  0.054054\t  0.351351\t  0.459459\t\n",
      "\n",
      "  0.270270\t  0.405405\t  0.081081\t  0.243243\t\n",
      "\n",
      "  0.594595\t  0.405405\t  0.000000\t  0.000000\t\n",
      "\n",
      "  0.972973\t  0.000000\t  0.000000\t  0.027027\t\n",
      "\n",
      "  0.000000\t  0.000000\t  0.000000\t  1.000000\t\n",
      "\n",
      "  0.297297\t  0.054054\t  0.000000\t  0.648649\t\n",
      "\n",
      "  0.891892\t  0.027027\t  0.000000\t  0.081081\t\n",
      "\n",
      "  0.486486\t  0.054054\t  0.108108\t  0.351351\t\n",
      "\n",
      "[[0.135135, 0.054054, 0.351351, 0.459459], [0.27027, 0.405405, 0.081081, 0.243243], [0.594595, 0.405405, 0.0, 0.0], [0.972973, 0.0, 0.0, 0.027027], [0.0, 0.0, 0.0, 1.0], [0.297297, 0.054054, 0.0, 0.648649], [0.891892, 0.027027, 0.0, 0.081081], [0.486486, 0.054054, 0.108108, 0.351351]]\n",
      "[[ 0.135135  0.054054  0.351351  0.459459]\n",
      " [ 0.27027   0.405405  0.081081  0.243243]\n",
      " [ 0.594595  0.405405  0.        0.      ]\n",
      " [ 0.972973  0.        0.        0.027027]\n",
      " [ 0.        0.        0.        1.      ]\n",
      " [ 0.297297  0.054054  0.        0.648649]\n",
      " [ 0.891892  0.027027  0.        0.081081]\n",
      " [ 0.486486  0.054054  0.108108  0.351351]]\n"
     ]
    }
   ],
   "source": [
    "with open('flyreg.v2.meme') as f:\n",
    "    my_list = []\n",
    "    for line in f:\n",
    "        \n",
    "        if 'MOTIF'in line:\n",
    "            split_line = line.split()\n",
    "            print('ID: '+ split_line[1])\n",
    "        #if 'letter-probability'in line:\n",
    "            #nextline = next(f)\n",
    "        if line.strip().startswith(('0')):\n",
    "            print(line)\n",
    "            row = [float(x.strip()) for x in line.strip().split('\\t')]\n",
    "            my_list.append(row)\n",
    "            \n",
    "        if 'URL' in line:\n",
    "            break   \n",
    "    print(my_list)\n",
    "    print(np.vstack(my_list))\n"
   ]
  },
  {
   "cell_type": "code",
   "execution_count": 14,
   "metadata": {
    "collapsed": true
   },
   "outputs": [],
   "source": [
    "import re"
   ]
  },
  {
   "cell_type": "code",
   "execution_count": 15,
   "metadata": {},
   "outputs": [
    {
     "ename": "AttributeError",
     "evalue": "module 're' has no attribute 'regex'",
     "output_type": "error",
     "traceback": [
      "\u001b[0;31m---------------------------------------------------------------------------\u001b[0m",
      "\u001b[0;31mAttributeError\u001b[0m                            Traceback (most recent call last)",
      "\u001b[0;32m<ipython-input-15-c2330b789bf4>\u001b[0m in \u001b[0;36m<module>\u001b[0;34m()\u001b[0m\n\u001b[0;32m----> 1\u001b[0;31m \u001b[0mregex\u001b[0m \u001b[0;34m=\u001b[0m \u001b[0mre\u001b[0m\u001b[0;34m.\u001b[0m\u001b[0mregex\u001b[0m\u001b[0;34m(\u001b[0m\u001b[0;34m'(\\d+\\.\\d+)\\w(\\d+\\.\\d+)\\w(\\d+\\.\\d+)\\w(\\d+\\.\\d+)\\n'\u001b[0m\u001b[0;34m)\u001b[0m\u001b[0;34m\u001b[0m\u001b[0m\n\u001b[0m",
      "\u001b[0;31mAttributeError\u001b[0m: module 're' has no attribute 'regex'"
     ]
    }
   ],
   "source": [
    "re.match('(\\d+\\.\\d+)\\w(\\d+\\.\\d+)\\w(\\d+\\.\\d+)\\w(\\d+\\.\\d+)\\n')"
   ]
  },
  {
   "cell_type": "code",
   "execution_count": 28,
   "metadata": {},
   "outputs": [
    {
     "data": {
      "text/plain": [
       "[0.12,\n",
       " 20.1,\n",
       " 20.1,\n",
       " 0.11112,\n",
       " 0.32,\n",
       " 20.1,\n",
       " 20.1,\n",
       " 0.11112,\n",
       " 0.42,\n",
       " 20.1,\n",
       " 20.1,\n",
       " 0.11112,\n",
       " 0.42,\n",
       " 20.1,\n",
       " 20.1,\n",
       " 0.11112]"
      ]
     },
     "execution_count": 28,
     "metadata": {},
     "output_type": "execute_result"
    }
   ],
   "source": [
    "[float(x) for x in re.findall(r'\\d+\\.\\d+', bob)]"
   ]
  },
  {
   "cell_type": "code",
   "execution_count": 27,
   "metadata": {},
   "outputs": [],
   "source": [
    "bob = \"\"\"\n",
    "0.12 20.10\\t20.10\\t0.11112\n",
    "0.32 20.10\\t20.10\\t0.11112\n",
    "0.42 20.10\\t20.10\\t0.11112\n",
    "0.42 20.10\\t20.10\\t0.11112\"\"\""
   ]
  },
  {
   "cell_type": "code",
   "execution_count": null,
   "metadata": {
    "collapsed": true
   },
   "outputs": [],
   "source": []
  }
 ],
 "metadata": {
  "kernelspec": {
   "display_name": "Python 3",
   "language": "python",
   "name": "python3"
  },
  "language_info": {
   "codemirror_mode": {
    "name": "ipython",
    "version": 3
   },
   "file_extension": ".py",
   "mimetype": "text/x-python",
   "name": "python",
   "nbconvert_exporter": "python",
   "pygments_lexer": "ipython3",
   "version": "3.6.1"
  },
  "toc": {
   "colors": {
    "hover_highlight": "#DAA520",
    "navigate_num": "#000000",
    "navigate_text": "#333333",
    "running_highlight": "#FF0000",
    "selected_highlight": "#FFD700",
    "sidebar_border": "#EEEEEE",
    "wrapper_background": "#FFFFFF"
   },
   "moveMenuLeft": true,
   "nav_menu": {
    "height": "12px",
    "width": "252px"
   },
   "navigate_menu": true,
   "number_sections": true,
   "sideBar": true,
   "threshold": 4,
   "toc_cell": false,
   "toc_section_display": "block",
   "toc_window_display": false,
   "widenNotebook": false
  }
 },
 "nbformat": 4,
 "nbformat_minor": 2
}
