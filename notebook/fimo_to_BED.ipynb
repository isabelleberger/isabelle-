{
 "cells": [
  {
   "cell_type": "code",
   "execution_count": 9,
   "metadata": {},
   "outputs": [],
   "source": [
    "# convert fimo to BED\n",
    "with open('/Users/bergeric/data/motif_alignments_flyFactor_dm6.2L_BED.bed', 'w+') as outfile:\n",
    "    with open('/Users/bergeric/data/motif_alignments_flyFactor_dm6.2L.txt') as f:\n",
    "        for line in f:\n",
    "            if not line.startswith(\"#\"):\n",
    "                s = line.split('\\t')\n",
    "                chrom = s[1]; start = s[2]; end = s[3]; name = s[0]; qval = s[7]; strand = s[4]\n",
    "                reorder = chrom + '\\t' + start + '\\t' + end + '\\t' + name + '\\t' + qval + '\\t' + strand + '\\n'\n",
    "                outfile.write(reorder)\n",
    "                "
   ]
  },
  {
   "cell_type": "code",
   "execution_count": null,
   "metadata": {
    "collapsed": true
   },
   "outputs": [],
   "source": []
  }
 ],
 "metadata": {
  "kernelspec": {
   "display_name": "Python 3",
   "language": "python",
   "name": "python3"
  },
  "language_info": {
   "codemirror_mode": {
    "name": "ipython",
    "version": 3
   },
   "file_extension": ".py",
   "mimetype": "text/x-python",
   "name": "python",
   "nbconvert_exporter": "python",
   "pygments_lexer": "ipython3",
   "version": "3.6.1"
  },
  "toc": {
   "colors": {
    "hover_highlight": "#DAA520",
    "navigate_num": "#000000",
    "navigate_text": "#333333",
    "running_highlight": "#FF0000",
    "selected_highlight": "#FFD700",
    "sidebar_border": "#EEEEEE",
    "wrapper_background": "#FFFFFF"
   },
   "moveMenuLeft": true,
   "nav_menu": {
    "height": "12px",
    "width": "252px"
   },
   "navigate_menu": true,
   "number_sections": true,
   "sideBar": true,
   "threshold": 4,
   "toc_cell": false,
   "toc_section_display": "block",
   "toc_window_display": false,
   "widenNotebook": false
  }
 },
 "nbformat": 4,
 "nbformat_minor": 2
}
